{
 "cells": [
  {
   "cell_type": "code",
   "execution_count": 1,
   "id": "76d03d8d",
   "metadata": {},
   "outputs": [
    {
     "name": "stdout",
     "output_type": "stream",
     "text": [
      "Hello\n"
     ]
    }
   ],
   "source": [
    "print(\"Hello\")"
   ]
  },
  {
   "cell_type": "code",
   "execution_count": 2,
   "id": "82d8dcc4",
   "metadata": {},
   "outputs": [
    {
     "data": {
      "text/plain": [
       "'D:\\\\Anaconda\\\\Materials'"
      ]
     },
     "execution_count": 2,
     "metadata": {},
     "output_type": "execute_result"
    }
   ],
   "source": [
    "pwd"
   ]
  },
  {
   "cell_type": "markdown",
   "id": "a9d21415",
   "metadata": {},
   "source": [
    "# Hello vit students"
   ]
  },
  {
   "cell_type": "markdown",
   "id": "45b0bd33",
   "metadata": {},
   "source": [
    " # Variables"
   ]
  },
  {
   "cell_type": "code",
   "execution_count": 3,
   "id": "f4afcfe3",
   "metadata": {},
   "outputs": [],
   "source": [
    "a=10"
   ]
  },
  {
   "cell_type": "code",
   "execution_count": 4,
   "id": "084e1ca7",
   "metadata": {},
   "outputs": [
    {
     "data": {
      "text/plain": [
       "10"
      ]
     },
     "execution_count": 4,
     "metadata": {},
     "output_type": "execute_result"
    }
   ],
   "source": [
    "a"
   ]
  },
  {
   "cell_type": "code",
   "execution_count": 5,
   "id": "79a9f398",
   "metadata": {},
   "outputs": [],
   "source": [
    "b=\"Shriyansh\""
   ]
  },
  {
   "cell_type": "code",
   "execution_count": 6,
   "id": "1543d706",
   "metadata": {},
   "outputs": [
    {
     "data": {
      "text/plain": [
       "'Shriyansh'"
      ]
     },
     "execution_count": 6,
     "metadata": {},
     "output_type": "execute_result"
    }
   ],
   "source": [
    "b"
   ]
  },
  {
   "cell_type": "code",
   "execution_count": 7,
   "id": "46b987e9",
   "metadata": {},
   "outputs": [],
   "source": [
    "c=23.7"
   ]
  },
  {
   "cell_type": "code",
   "execution_count": 8,
   "id": "816f0be9",
   "metadata": {},
   "outputs": [
    {
     "data": {
      "text/plain": [
       "23.7"
      ]
     },
     "execution_count": 8,
     "metadata": {},
     "output_type": "execute_result"
    }
   ],
   "source": [
    "c"
   ]
  },
  {
   "cell_type": "code",
   "execution_count": 9,
   "id": "bffcc6ad",
   "metadata": {},
   "outputs": [
    {
     "data": {
      "text/plain": [
       "int"
      ]
     },
     "execution_count": 9,
     "metadata": {},
     "output_type": "execute_result"
    }
   ],
   "source": [
    "type(a)"
   ]
  },
  {
   "cell_type": "code",
   "execution_count": 10,
   "id": "3cecd9f3",
   "metadata": {},
   "outputs": [
    {
     "data": {
      "text/plain": [
       "str"
      ]
     },
     "execution_count": 10,
     "metadata": {},
     "output_type": "execute_result"
    }
   ],
   "source": [
    "type(b)"
   ]
  },
  {
   "cell_type": "code",
   "execution_count": 11,
   "id": "72ad968f",
   "metadata": {},
   "outputs": [
    {
     "data": {
      "text/plain": [
       "float"
      ]
     },
     "execution_count": 11,
     "metadata": {},
     "output_type": "execute_result"
    }
   ],
   "source": [
    "type(c)"
   ]
  },
  {
   "cell_type": "code",
   "execution_count": 12,
   "id": "0006bde3",
   "metadata": {},
   "outputs": [
    {
     "data": {
      "text/plain": [
       "(10, 'Shriyansh', 23.7)"
      ]
     },
     "execution_count": 12,
     "metadata": {},
     "output_type": "execute_result"
    }
   ],
   "source": [
    "a,b,c"
   ]
  },
  {
   "cell_type": "code",
   "execution_count": 13,
   "id": "14c65d9e",
   "metadata": {},
   "outputs": [
    {
     "name": "stdout",
     "output_type": "stream",
     "text": [
      "10\n"
     ]
    }
   ],
   "source": [
    "print(a)"
   ]
  },
  {
   "cell_type": "code",
   "execution_count": 14,
   "id": "fbcd9f92",
   "metadata": {},
   "outputs": [
    {
     "name": "stdout",
     "output_type": "stream",
     "text": [
      "a: 10 b: Shriyansh c: 23.7\n"
     ]
    }
   ],
   "source": [
    "print(\"a:\",a,\"b:\",b,\"c:\",c)"
   ]
  },
  {
   "cell_type": "code",
   "execution_count": 15,
   "id": "a3995d54",
   "metadata": {},
   "outputs": [],
   "source": [
    "import keyword"
   ]
  },
  {
   "cell_type": "code",
   "execution_count": 16,
   "id": "f35426ca",
   "metadata": {},
   "outputs": [
    {
     "name": "stdout",
     "output_type": "stream",
     "text": [
      "['False', 'None', 'True', 'and', 'as', 'assert', 'async', 'await', 'break', 'class', 'continue', 'def', 'del', 'elif', 'else', 'except', 'finally', 'for', 'from', 'global', 'if', 'import', 'in', 'is', 'lambda', 'nonlocal', 'not', 'or', 'pass', 'raise', 'return', 'try', 'while', 'with', 'yield']\n"
     ]
    }
   ],
   "source": [
    "print(keyword.kwlist)"
   ]
  },
  {
   "cell_type": "markdown",
   "id": "bde7addc",
   "metadata": {},
   "source": [
    "# Indexing"
   ]
  },
  {
   "cell_type": "code",
   "execution_count": 17,
   "id": "1d6ff40d",
   "metadata": {},
   "outputs": [],
   "source": [
    "string = \"hi how are you\""
   ]
  },
  {
   "cell_type": "raw",
   "id": "99308dbc",
   "metadata": {},
   "source": [
    "hi how are you\n",
    "012345678910111213 --------- positive Indexing\n",
    "\n",
    "hi how are you\n",
    "    .....-4-3-2-1\n",
    "\n"
   ]
  },
  {
   "cell_type": "code",
   "execution_count": 19,
   "id": "866d2cbe",
   "metadata": {},
   "outputs": [
    {
     "data": {
      "text/plain": [
       "'i'"
      ]
     },
     "execution_count": 19,
     "metadata": {},
     "output_type": "execute_result"
    }
   ],
   "source": [
    "string[1]"
   ]
  },
  {
   "cell_type": "code",
   "execution_count": 20,
   "id": "96ab5be4",
   "metadata": {},
   "outputs": [
    {
     "data": {
      "text/plain": [
       "'o'"
      ]
     },
     "execution_count": 20,
     "metadata": {},
     "output_type": "execute_result"
    }
   ],
   "source": [
    "string[-2]"
   ]
  },
  {
   "cell_type": "code",
   "execution_count": 21,
   "id": "aa1247f1",
   "metadata": {},
   "outputs": [
    {
     "data": {
      "text/plain": [
       "'o'"
      ]
     },
     "execution_count": 21,
     "metadata": {},
     "output_type": "execute_result"
    }
   ],
   "source": [
    "string[12]"
   ]
  },
  {
   "cell_type": "code",
   "execution_count": null,
   "id": "78f3e135",
   "metadata": {},
   "outputs": [],
   "source": [
    "mutable-- if you are able to change the content\n",
    "immutable -- cannot change the content"
   ]
  },
  {
   "cell_type": "code",
   "execution_count": 22,
   "id": "64f2f47b",
   "metadata": {},
   "outputs": [
    {
     "ename": "TypeError",
     "evalue": "'str' object does not support item assignment",
     "output_type": "error",
     "traceback": [
      "\u001b[1;31m---------------------------------------------------------------------------\u001b[0m",
      "\u001b[1;31mTypeError\u001b[0m                                 Traceback (most recent call last)",
      "Cell \u001b[1;32mIn[22], line 1\u001b[0m\n\u001b[1;32m----> 1\u001b[0m string[\u001b[38;5;241m-\u001b[39m\u001b[38;5;241m2\u001b[39m]\u001b[38;5;241m=\u001b[39m\u001b[38;5;124m\"\u001b[39m\u001b[38;5;124mg\u001b[39m\u001b[38;5;124m\"\u001b[39m\n",
      "\u001b[1;31mTypeError\u001b[0m: 'str' object does not support item assignment"
     ]
    }
   ],
   "source": [
    "string[-2]=\"g\""
   ]
  },
  {
   "cell_type": "raw",
   "id": "20237356",
   "metadata": {},
   "source": [
    "i.e. string is immutable"
   ]
  },
  {
   "cell_type": "code",
   "execution_count": 3,
   "id": "0a9e7e84",
   "metadata": {},
   "outputs": [
    {
     "data": {
      "text/plain": [
       "'hi how are you 12345'"
      ]
     },
     "execution_count": 3,
     "metadata": {},
     "output_type": "execute_result"
    }
   ],
   "source": [
    "string = \"hi how are you 12345\" #homogeneous, 123 considered as a character\n",
    "string"
   ]
  },
  {
   "cell_type": "markdown",
   "id": "d0116247",
   "metadata": {},
   "source": [
    "# Slicing"
   ]
  },
  {
   "cell_type": "code",
   "execution_count": 23,
   "id": "3bc9c75f",
   "metadata": {},
   "outputs": [
    {
     "data": {
      "text/plain": [
       "'hi how are you'"
      ]
     },
     "execution_count": 23,
     "metadata": {},
     "output_type": "execute_result"
    }
   ],
   "source": [
    "string"
   ]
  },
  {
   "cell_type": "code",
   "execution_count": 24,
   "id": "70831f53",
   "metadata": {},
   "outputs": [
    {
     "data": {
      "text/plain": [
       "'how are you'"
      ]
     },
     "execution_count": 24,
     "metadata": {},
     "output_type": "execute_result"
    }
   ],
   "source": [
    "#start slicing\n",
    "string[3:]"
   ]
  },
  {
   "cell_type": "code",
   "execution_count": 28,
   "id": "96a7d93a",
   "metadata": {},
   "outputs": [
    {
     "data": {
      "text/plain": [
       "'how are you'"
      ]
     },
     "execution_count": 28,
     "metadata": {},
     "output_type": "execute_result"
    }
   ],
   "source": [
    "string[3:14]"
   ]
  },
  {
   "cell_type": "code",
   "execution_count": 29,
   "id": "210a70e2",
   "metadata": {},
   "outputs": [
    {
     "data": {
      "text/plain": [
       "'how are'"
      ]
     },
     "execution_count": 29,
     "metadata": {},
     "output_type": "execute_result"
    }
   ],
   "source": [
    "string[3:10]"
   ]
  },
  {
   "cell_type": "code",
   "execution_count": 30,
   "id": "e2466af3",
   "metadata": {},
   "outputs": [
    {
     "data": {
      "text/plain": [
       "['__add__',\n",
       " '__class__',\n",
       " '__contains__',\n",
       " '__delattr__',\n",
       " '__dir__',\n",
       " '__doc__',\n",
       " '__eq__',\n",
       " '__format__',\n",
       " '__ge__',\n",
       " '__getattribute__',\n",
       " '__getitem__',\n",
       " '__getnewargs__',\n",
       " '__getstate__',\n",
       " '__gt__',\n",
       " '__hash__',\n",
       " '__init__',\n",
       " '__init_subclass__',\n",
       " '__iter__',\n",
       " '__le__',\n",
       " '__len__',\n",
       " '__lt__',\n",
       " '__mod__',\n",
       " '__mul__',\n",
       " '__ne__',\n",
       " '__new__',\n",
       " '__reduce__',\n",
       " '__reduce_ex__',\n",
       " '__repr__',\n",
       " '__rmod__',\n",
       " '__rmul__',\n",
       " '__setattr__',\n",
       " '__sizeof__',\n",
       " '__str__',\n",
       " '__subclasshook__',\n",
       " 'capitalize',\n",
       " 'casefold',\n",
       " 'center',\n",
       " 'count',\n",
       " 'encode',\n",
       " 'endswith',\n",
       " 'expandtabs',\n",
       " 'find',\n",
       " 'format',\n",
       " 'format_map',\n",
       " 'index',\n",
       " 'isalnum',\n",
       " 'isalpha',\n",
       " 'isascii',\n",
       " 'isdecimal',\n",
       " 'isdigit',\n",
       " 'isidentifier',\n",
       " 'islower',\n",
       " 'isnumeric',\n",
       " 'isprintable',\n",
       " 'isspace',\n",
       " 'istitle',\n",
       " 'isupper',\n",
       " 'join',\n",
       " 'ljust',\n",
       " 'lower',\n",
       " 'lstrip',\n",
       " 'maketrans',\n",
       " 'partition',\n",
       " 'removeprefix',\n",
       " 'removesuffix',\n",
       " 'replace',\n",
       " 'rfind',\n",
       " 'rindex',\n",
       " 'rjust',\n",
       " 'rpartition',\n",
       " 'rsplit',\n",
       " 'rstrip',\n",
       " 'split',\n",
       " 'splitlines',\n",
       " 'startswith',\n",
       " 'strip',\n",
       " 'swapcase',\n",
       " 'title',\n",
       " 'translate',\n",
       " 'upper',\n",
       " 'zfill']"
      ]
     },
     "execution_count": 30,
     "metadata": {},
     "output_type": "execute_result"
    }
   ],
   "source": [
    "dir(string) #different fns that can be applied on our variable(string)"
   ]
  },
  {
   "cell_type": "markdown",
   "id": "a930c05b",
   "metadata": {},
   "source": [
    "# Lists"
   ]
  },
  {
   "cell_type": "code",
   "execution_count": 31,
   "id": "08a671eb",
   "metadata": {},
   "outputs": [],
   "source": [
    "p=[1,2,3.5,\"Shriyansh\",\"knowledge\"]"
   ]
  },
  {
   "cell_type": "code",
   "execution_count": 32,
   "id": "82675354",
   "metadata": {},
   "outputs": [
    {
     "data": {
      "text/plain": [
       "list"
      ]
     },
     "execution_count": 32,
     "metadata": {},
     "output_type": "execute_result"
    }
   ],
   "source": [
    "type(p)"
   ]
  },
  {
   "cell_type": "code",
   "execution_count": 33,
   "id": "6381ddbc",
   "metadata": {},
   "outputs": [
    {
     "data": {
      "text/plain": [
       "[1, 2, 3.5, 'Shriyansh', 'knowledge']"
      ]
     },
     "execution_count": 33,
     "metadata": {},
     "output_type": "execute_result"
    }
   ],
   "source": [
    "p"
   ]
  },
  {
   "cell_type": "code",
   "execution_count": 34,
   "id": "8cf0f648",
   "metadata": {},
   "outputs": [
    {
     "data": {
      "text/plain": [
       "1"
      ]
     },
     "execution_count": 34,
     "metadata": {},
     "output_type": "execute_result"
    }
   ],
   "source": [
    "p[0]"
   ]
  },
  {
   "cell_type": "code",
   "execution_count": 35,
   "id": "31c05e23",
   "metadata": {},
   "outputs": [
    {
     "data": {
      "text/plain": [
       "3.5"
      ]
     },
     "execution_count": 35,
     "metadata": {},
     "output_type": "execute_result"
    }
   ],
   "source": [
    "p[2]"
   ]
  },
  {
   "cell_type": "code",
   "execution_count": 36,
   "id": "4c73e10b",
   "metadata": {},
   "outputs": [
    {
     "data": {
      "text/plain": [
       "'knowledge'"
      ]
     },
     "execution_count": 36,
     "metadata": {},
     "output_type": "execute_result"
    }
   ],
   "source": [
    "p[4]"
   ]
  },
  {
   "cell_type": "code",
   "execution_count": 37,
   "id": "012678df",
   "metadata": {},
   "outputs": [
    {
     "data": {
      "text/plain": [
       "'o'"
      ]
     },
     "execution_count": 37,
     "metadata": {},
     "output_type": "execute_result"
    }
   ],
   "source": [
    "p[4][2]"
   ]
  },
  {
   "cell_type": "code",
   "execution_count": 38,
   "id": "b974be0e",
   "metadata": {},
   "outputs": [
    {
     "data": {
      "text/plain": [
       "str"
      ]
     },
     "execution_count": 38,
     "metadata": {},
     "output_type": "execute_result"
    }
   ],
   "source": [
    "type(p[3])"
   ]
  },
  {
   "cell_type": "code",
   "execution_count": 39,
   "id": "898de625",
   "metadata": {},
   "outputs": [
    {
     "data": {
      "text/plain": [
       "5"
      ]
     },
     "execution_count": 39,
     "metadata": {},
     "output_type": "execute_result"
    }
   ],
   "source": [
    "len(p) #length of our list"
   ]
  },
  {
   "cell_type": "code",
   "execution_count": 40,
   "id": "2b824005",
   "metadata": {},
   "outputs": [],
   "source": [
    "p.append(9) #list are ordered, if added, will be appended at the end"
   ]
  },
  {
   "cell_type": "code",
   "execution_count": 41,
   "id": "c2628184",
   "metadata": {},
   "outputs": [
    {
     "data": {
      "text/plain": [
       "[1, 2, 3.5, 'Shriyansh', 'knowledge', 9]"
      ]
     },
     "execution_count": 41,
     "metadata": {},
     "output_type": "execute_result"
    }
   ],
   "source": [
    "p"
   ]
  },
  {
   "cell_type": "code",
   "execution_count": 43,
   "id": "9e64a251",
   "metadata": {},
   "outputs": [],
   "source": [
    "p.insert(4,\"Timsina\")  #list is mutable"
   ]
  },
  {
   "cell_type": "code",
   "execution_count": 44,
   "id": "176276d6",
   "metadata": {},
   "outputs": [
    {
     "data": {
      "text/plain": [
       "[1, 2, 3.5, 'Shriyansh', 'Timsina', 'knowledge', 9]"
      ]
     },
     "execution_count": 44,
     "metadata": {},
     "output_type": "execute_result"
    }
   ],
   "source": [
    "p "
   ]
  },
  {
   "cell_type": "code",
   "execution_count": 45,
   "id": "ab0e5d76",
   "metadata": {},
   "outputs": [
    {
     "data": {
      "text/plain": [
       "7"
      ]
     },
     "execution_count": 45,
     "metadata": {},
     "output_type": "execute_result"
    }
   ],
   "source": [
    "len(p)"
   ]
  },
  {
   "cell_type": "code",
   "execution_count": 46,
   "id": "bb9582e4",
   "metadata": {},
   "outputs": [],
   "source": [
    "p.append(\"Shriyansh\")  # can add duplicates"
   ]
  },
  {
   "cell_type": "code",
   "execution_count": 47,
   "id": "30b221c9",
   "metadata": {},
   "outputs": [
    {
     "data": {
      "text/plain": [
       "[1, 2, 3.5, 'Shriyansh', 'Timsina', 'knowledge', 9, 'Shriyansh']"
      ]
     },
     "execution_count": 47,
     "metadata": {},
     "output_type": "execute_result"
    }
   ],
   "source": [
    "p"
   ]
  },
  {
   "cell_type": "code",
   "execution_count": 48,
   "id": "b68ec469",
   "metadata": {},
   "outputs": [],
   "source": [
    "p.remove(\"Shriyansh\") #first occurence will be removed"
   ]
  },
  {
   "cell_type": "code",
   "execution_count": 49,
   "id": "b8a39f94",
   "metadata": {},
   "outputs": [
    {
     "data": {
      "text/plain": [
       "[1, 2, 3.5, 'Timsina', 'knowledge', 9, 'Shriyansh']"
      ]
     },
     "execution_count": 49,
     "metadata": {},
     "output_type": "execute_result"
    }
   ],
   "source": [
    "p"
   ]
  },
  {
   "cell_type": "code",
   "execution_count": 50,
   "id": "6d98d833",
   "metadata": {},
   "outputs": [
    {
     "data": {
      "text/plain": [
       "'Shriyansh'"
      ]
     },
     "execution_count": 50,
     "metadata": {},
     "output_type": "execute_result"
    }
   ],
   "source": [
    "p.pop()"
   ]
  },
  {
   "cell_type": "code",
   "execution_count": 51,
   "id": "af9f2351",
   "metadata": {},
   "outputs": [
    {
     "data": {
      "text/plain": [
       "[1, 2, 3.5, 'Timsina', 'knowledge', 9]"
      ]
     },
     "execution_count": 51,
     "metadata": {},
     "output_type": "execute_result"
    }
   ],
   "source": [
    "p"
   ]
  },
  {
   "cell_type": "code",
   "execution_count": 52,
   "id": "65b32fc5",
   "metadata": {},
   "outputs": [
    {
     "data": {
      "text/plain": [
       "'Timsina'"
      ]
     },
     "execution_count": 52,
     "metadata": {},
     "output_type": "execute_result"
    }
   ],
   "source": [
    "p.pop(3)"
   ]
  },
  {
   "cell_type": "code",
   "execution_count": 53,
   "id": "c41a33e3",
   "metadata": {},
   "outputs": [
    {
     "data": {
      "text/plain": [
       "[1, 2, 3.5, 'knowledge', 9]"
      ]
     },
     "execution_count": 53,
     "metadata": {},
     "output_type": "execute_result"
    }
   ],
   "source": [
    "p"
   ]
  },
  {
   "cell_type": "code",
   "execution_count": 54,
   "id": "1a1ce39a",
   "metadata": {},
   "outputs": [
    {
     "data": {
      "text/plain": [
       "['__add__',\n",
       " '__class__',\n",
       " '__class_getitem__',\n",
       " '__contains__',\n",
       " '__delattr__',\n",
       " '__delitem__',\n",
       " '__dir__',\n",
       " '__doc__',\n",
       " '__eq__',\n",
       " '__format__',\n",
       " '__ge__',\n",
       " '__getattribute__',\n",
       " '__getitem__',\n",
       " '__getstate__',\n",
       " '__gt__',\n",
       " '__hash__',\n",
       " '__iadd__',\n",
       " '__imul__',\n",
       " '__init__',\n",
       " '__init_subclass__',\n",
       " '__iter__',\n",
       " '__le__',\n",
       " '__len__',\n",
       " '__lt__',\n",
       " '__mul__',\n",
       " '__ne__',\n",
       " '__new__',\n",
       " '__reduce__',\n",
       " '__reduce_ex__',\n",
       " '__repr__',\n",
       " '__reversed__',\n",
       " '__rmul__',\n",
       " '__setattr__',\n",
       " '__setitem__',\n",
       " '__sizeof__',\n",
       " '__str__',\n",
       " '__subclasshook__',\n",
       " 'append',\n",
       " 'clear',\n",
       " 'copy',\n",
       " 'count',\n",
       " 'extend',\n",
       " 'index',\n",
       " 'insert',\n",
       " 'pop',\n",
       " 'remove',\n",
       " 'reverse',\n",
       " 'sort']"
      ]
     },
     "execution_count": 54,
     "metadata": {},
     "output_type": "execute_result"
    }
   ],
   "source": [
    "dir(p)"
   ]
  },
  {
   "cell_type": "code",
   "execution_count": 55,
   "id": "3ab78ea6",
   "metadata": {},
   "outputs": [],
   "source": [
    "p.reverse()"
   ]
  },
  {
   "cell_type": "code",
   "execution_count": 56,
   "id": "50b722b4",
   "metadata": {},
   "outputs": [
    {
     "data": {
      "text/plain": [
       "[9, 'knowledge', 3.5, 2, 1]"
      ]
     },
     "execution_count": 56,
     "metadata": {},
     "output_type": "execute_result"
    }
   ],
   "source": [
    "p"
   ]
  },
  {
   "cell_type": "code",
   "execution_count": null,
   "id": "c2d54f6f",
   "metadata": {},
   "outputs": [],
   "source": [
    "list--> mutable, ordered, allow duplicates, reverse, heterogenous\n",
    "(mul datatypes)"
   ]
  },
  {
   "cell_type": "markdown",
   "id": "a5ddc58d",
   "metadata": {},
   "source": [
    "# tuple"
   ]
  },
  {
   "cell_type": "code",
   "execution_count": 57,
   "id": "4a04dabd",
   "metadata": {},
   "outputs": [],
   "source": [
    "t=(5,8.8,9,\"smartbridge\")"
   ]
  },
  {
   "cell_type": "code",
   "execution_count": 58,
   "id": "13d5bcda",
   "metadata": {},
   "outputs": [
    {
     "data": {
      "text/plain": [
       "(5, 8.8, 9, 'smartbridge')"
      ]
     },
     "execution_count": 58,
     "metadata": {},
     "output_type": "execute_result"
    }
   ],
   "source": [
    "t #is heterogenoeus"
   ]
  },
  {
   "cell_type": "code",
   "execution_count": 59,
   "id": "f3c3c6fe",
   "metadata": {},
   "outputs": [
    {
     "data": {
      "text/plain": [
       "tuple"
      ]
     },
     "execution_count": 59,
     "metadata": {},
     "output_type": "execute_result"
    }
   ],
   "source": [
    "type(t)"
   ]
  },
  {
   "cell_type": "code",
   "execution_count": 60,
   "id": "20394625",
   "metadata": {},
   "outputs": [
    {
     "data": {
      "text/plain": [
       "['__add__',\n",
       " '__class__',\n",
       " '__class_getitem__',\n",
       " '__contains__',\n",
       " '__delattr__',\n",
       " '__dir__',\n",
       " '__doc__',\n",
       " '__eq__',\n",
       " '__format__',\n",
       " '__ge__',\n",
       " '__getattribute__',\n",
       " '__getitem__',\n",
       " '__getnewargs__',\n",
       " '__getstate__',\n",
       " '__gt__',\n",
       " '__hash__',\n",
       " '__init__',\n",
       " '__init_subclass__',\n",
       " '__iter__',\n",
       " '__le__',\n",
       " '__len__',\n",
       " '__lt__',\n",
       " '__mul__',\n",
       " '__ne__',\n",
       " '__new__',\n",
       " '__reduce__',\n",
       " '__reduce_ex__',\n",
       " '__repr__',\n",
       " '__rmul__',\n",
       " '__setattr__',\n",
       " '__sizeof__',\n",
       " '__str__',\n",
       " '__subclasshook__',\n",
       " 'count',\n",
       " 'index']"
      ]
     },
     "execution_count": 60,
     "metadata": {},
     "output_type": "execute_result"
    }
   ],
   "source": [
    "dir(t)"
   ]
  },
  {
   "cell_type": "code",
   "execution_count": 61,
   "id": "088e7552",
   "metadata": {},
   "outputs": [
    {
     "data": {
      "text/plain": [
       "(5, 8.8, 9, 'smartbridge')"
      ]
     },
     "execution_count": 61,
     "metadata": {},
     "output_type": "execute_result"
    }
   ],
   "source": [
    "t"
   ]
  },
  {
   "cell_type": "code",
   "execution_count": 62,
   "id": "06b07e35",
   "metadata": {},
   "outputs": [
    {
     "data": {
      "text/plain": [
       "8.8"
      ]
     },
     "execution_count": 62,
     "metadata": {},
     "output_type": "execute_result"
    }
   ],
   "source": [
    "t[1]"
   ]
  },
  {
   "cell_type": "code",
   "execution_count": 63,
   "id": "6e8d7338",
   "metadata": {},
   "outputs": [
    {
     "data": {
      "text/plain": [
       "(8.8, 9, 'smartbridge')"
      ]
     },
     "execution_count": 63,
     "metadata": {},
     "output_type": "execute_result"
    }
   ],
   "source": [
    "t[1:]"
   ]
  },
  {
   "cell_type": "code",
   "execution_count": 64,
   "id": "7c0df5e0",
   "metadata": {},
   "outputs": [],
   "source": [
    "#convert tuple into list, to make any changes to a tupple\n",
    "a=list(t)"
   ]
  },
  {
   "cell_type": "code",
   "execution_count": 65,
   "id": "c1f3878f",
   "metadata": {},
   "outputs": [
    {
     "data": {
      "text/plain": [
       "(5, 8.8, 9, 'smartbridge')"
      ]
     },
     "execution_count": 65,
     "metadata": {},
     "output_type": "execute_result"
    }
   ],
   "source": [
    "t"
   ]
  },
  {
   "cell_type": "code",
   "execution_count": 66,
   "id": "a4ae0f05",
   "metadata": {},
   "outputs": [
    {
     "data": {
      "text/plain": [
       "[5, 8.8, 9, 'smartbridge']"
      ]
     },
     "execution_count": 66,
     "metadata": {},
     "output_type": "execute_result"
    }
   ],
   "source": [
    "a"
   ]
  },
  {
   "cell_type": "code",
   "execution_count": 67,
   "id": "c79aca70",
   "metadata": {},
   "outputs": [],
   "source": [
    "a.append(\"externship\")"
   ]
  },
  {
   "cell_type": "code",
   "execution_count": 68,
   "id": "1dd0c1dc",
   "metadata": {},
   "outputs": [
    {
     "data": {
      "text/plain": [
       "[5, 8.8, 9, 'smartbridge', 'externship']"
      ]
     },
     "execution_count": 68,
     "metadata": {},
     "output_type": "execute_result"
    }
   ],
   "source": [
    "a"
   ]
  },
  {
   "cell_type": "code",
   "execution_count": 69,
   "id": "2b503bbc",
   "metadata": {},
   "outputs": [],
   "source": [
    "y=(4,7,8)"
   ]
  },
  {
   "cell_type": "code",
   "execution_count": 72,
   "id": "29664ec5",
   "metadata": {},
   "outputs": [],
   "source": [
    "#join two tuples\n",
    "\n",
    "c=t+y"
   ]
  },
  {
   "cell_type": "code",
   "execution_count": 73,
   "id": "de8bb09f",
   "metadata": {},
   "outputs": [
    {
     "data": {
      "text/plain": [
       "(5, 8.8, 9, 'smartbridge', 4, 7, 8)"
      ]
     },
     "execution_count": 73,
     "metadata": {},
     "output_type": "execute_result"
    }
   ],
   "source": [
    "c"
   ]
  },
  {
   "cell_type": "code",
   "execution_count": null,
   "id": "8c940ba9",
   "metadata": {},
   "outputs": [],
   "source": [
    "tuple-->ordered, slicing, indexing can be done, immutable, heterogeneous, allows duplicates"
   ]
  },
  {
   "cell_type": "code",
   "execution_count": 75,
   "id": "80fc6487",
   "metadata": {},
   "outputs": [
    {
     "data": {
      "text/plain": [
       "(1, 1)"
      ]
     },
     "execution_count": 75,
     "metadata": {},
     "output_type": "execute_result"
    }
   ],
   "source": [
    "f=(1,1)\n",
    "f"
   ]
  },
  {
   "cell_type": "markdown",
   "id": "2f5112e4",
   "metadata": {},
   "source": [
    "# Dictionary"
   ]
  },
  {
   "cell_type": "code",
   "execution_count": null,
   "id": "35c50957",
   "metadata": {},
   "outputs": [],
   "source": [
    "#store data in key, value pair"
   ]
  },
  {
   "cell_type": "code",
   "execution_count": 6,
   "id": "5c195ba0",
   "metadata": {},
   "outputs": [],
   "source": [
    "cricket={\"caption\":\"virat\",\"keeper\":\"dhoni\",\"bowler\":\"sachin\"}"
   ]
  },
  {
   "cell_type": "code",
   "execution_count": 7,
   "id": "e280caf3",
   "metadata": {},
   "outputs": [
    {
     "data": {
      "text/plain": [
       "{'caption': 'virat', 'keeper': 'dhoni', 'bowler': 'sachin'}"
      ]
     },
     "execution_count": 7,
     "metadata": {},
     "output_type": "execute_result"
    }
   ],
   "source": [
    "cricket"
   ]
  },
  {
   "cell_type": "code",
   "execution_count": 8,
   "id": "9fc7c28d",
   "metadata": {},
   "outputs": [
    {
     "data": {
      "text/plain": [
       "dict"
      ]
     },
     "execution_count": 8,
     "metadata": {},
     "output_type": "execute_result"
    }
   ],
   "source": [
    "type(cricket)"
   ]
  },
  {
   "cell_type": "code",
   "execution_count": 9,
   "id": "9699e3f0",
   "metadata": {},
   "outputs": [
    {
     "data": {
      "text/plain": [
       "'sachin'"
      ]
     },
     "execution_count": 9,
     "metadata": {},
     "output_type": "execute_result"
    }
   ],
   "source": [
    "cricket[\"bowler\"]"
   ]
  },
  {
   "cell_type": "code",
   "execution_count": 10,
   "id": "36025c34",
   "metadata": {},
   "outputs": [
    {
     "data": {
      "text/plain": [
       "'sachin'"
      ]
     },
     "execution_count": 10,
     "metadata": {},
     "output_type": "execute_result"
    }
   ],
   "source": [
    "cricket.get(\"bowler\")"
   ]
  },
  {
   "cell_type": "code",
   "execution_count": 11,
   "id": "fa66e3fc",
   "metadata": {},
   "outputs": [
    {
     "data": {
      "text/plain": [
       "dict_keys(['caption', 'keeper', 'bowler'])"
      ]
     },
     "execution_count": 11,
     "metadata": {},
     "output_type": "execute_result"
    }
   ],
   "source": [
    "cricket.keys()"
   ]
  },
  {
   "cell_type": "code",
   "execution_count": 12,
   "id": "efdaa5d3",
   "metadata": {},
   "outputs": [
    {
     "data": {
      "text/plain": [
       "dict_values(['virat', 'dhoni', 'sachin'])"
      ]
     },
     "execution_count": 12,
     "metadata": {},
     "output_type": "execute_result"
    }
   ],
   "source": [
    "cricket.values()"
   ]
  },
  {
   "cell_type": "code",
   "execution_count": 13,
   "id": "93524c16",
   "metadata": {},
   "outputs": [
    {
     "data": {
      "text/plain": [
       "dict_items([('caption', 'virat'), ('keeper', 'dhoni'), ('bowler', 'sachin')])"
      ]
     },
     "execution_count": 13,
     "metadata": {},
     "output_type": "execute_result"
    }
   ],
   "source": [
    "cricket.items() #method which will return each items in dic, tuple form inside a list"
   ]
  },
  {
   "cell_type": "code",
   "execution_count": null,
   "id": "045b6c63",
   "metadata": {},
   "outputs": [],
   "source": []
  },
  {
   "cell_type": "code",
   "execution_count": null,
   "id": "e0240d7b",
   "metadata": {},
   "outputs": [],
   "source": []
  },
  {
   "cell_type": "code",
   "execution_count": null,
   "id": "8e535f0d",
   "metadata": {},
   "outputs": [],
   "source": []
  },
  {
   "cell_type": "code",
   "execution_count": null,
   "id": "230fc6ec",
   "metadata": {},
   "outputs": [],
   "source": []
  },
  {
   "cell_type": "code",
   "execution_count": 85,
   "id": "4a72db3c",
   "metadata": {},
   "outputs": [],
   "source": [
    "z={\"alpha\":[\"a1\",\"b1\",\"c1\"],\"numbers\":[1,2,3]}"
   ]
  },
  {
   "cell_type": "code",
   "execution_count": 86,
   "id": "561829ff",
   "metadata": {},
   "outputs": [
    {
     "data": {
      "text/plain": [
       "{'alpha': ['a1', 'b1', 'c1'], 'numbers': [1, 2, 3]}"
      ]
     },
     "execution_count": 86,
     "metadata": {},
     "output_type": "execute_result"
    }
   ],
   "source": [
    "z"
   ]
  },
  {
   "cell_type": "code",
   "execution_count": 87,
   "id": "c84badc3",
   "metadata": {},
   "outputs": [
    {
     "data": {
      "text/plain": [
       "dict_items([('alpha', ['a1', 'b1', 'c1']), ('numbers', [1, 2, 3])])"
      ]
     },
     "execution_count": 87,
     "metadata": {},
     "output_type": "execute_result"
    }
   ],
   "source": [
    "z.items()"
   ]
  },
  {
   "cell_type": "code",
   "execution_count": 88,
   "id": "a123c3b3",
   "metadata": {},
   "outputs": [
    {
     "data": {
      "text/plain": [
       "['__class__',\n",
       " '__class_getitem__',\n",
       " '__contains__',\n",
       " '__delattr__',\n",
       " '__delitem__',\n",
       " '__dir__',\n",
       " '__doc__',\n",
       " '__eq__',\n",
       " '__format__',\n",
       " '__ge__',\n",
       " '__getattribute__',\n",
       " '__getitem__',\n",
       " '__getstate__',\n",
       " '__gt__',\n",
       " '__hash__',\n",
       " '__init__',\n",
       " '__init_subclass__',\n",
       " '__ior__',\n",
       " '__iter__',\n",
       " '__le__',\n",
       " '__len__',\n",
       " '__lt__',\n",
       " '__ne__',\n",
       " '__new__',\n",
       " '__or__',\n",
       " '__reduce__',\n",
       " '__reduce_ex__',\n",
       " '__repr__',\n",
       " '__reversed__',\n",
       " '__ror__',\n",
       " '__setattr__',\n",
       " '__setitem__',\n",
       " '__sizeof__',\n",
       " '__str__',\n",
       " '__subclasshook__',\n",
       " 'clear',\n",
       " 'copy',\n",
       " 'fromkeys',\n",
       " 'get',\n",
       " 'items',\n",
       " 'keys',\n",
       " 'pop',\n",
       " 'popitem',\n",
       " 'setdefault',\n",
       " 'update',\n",
       " 'values']"
      ]
     },
     "execution_count": 88,
     "metadata": {},
     "output_type": "execute_result"
    }
   ],
   "source": [
    "dir(z)"
   ]
  },
  {
   "cell_type": "code",
   "execution_count": 89,
   "id": "fc28b376",
   "metadata": {},
   "outputs": [],
   "source": [
    "r={1:2}"
   ]
  },
  {
   "cell_type": "code",
   "execution_count": 90,
   "id": "c4a37951",
   "metadata": {},
   "outputs": [],
   "source": [
    "z.update(r)"
   ]
  },
  {
   "cell_type": "code",
   "execution_count": 91,
   "id": "bcd27469",
   "metadata": {},
   "outputs": [
    {
     "data": {
      "text/plain": [
       "{'alpha': ['a1', 'b1', 'c1'], 'numbers': [1, 2, 3], 1: 2}"
      ]
     },
     "execution_count": 91,
     "metadata": {},
     "output_type": "execute_result"
    }
   ],
   "source": [
    "z"
   ]
  },
  {
   "cell_type": "code",
   "execution_count": 14,
   "id": "baf1f843",
   "metadata": {},
   "outputs": [],
   "source": [
    "d={\"emp name\":\"tulasi\",\n",
    "  \"salary\":1000,\n",
    "  \"experience\":6,\n",
    "  \"designation\":\"ml engineer\"}"
   ]
  },
  {
   "cell_type": "code",
   "execution_count": 15,
   "id": "763ac66a",
   "metadata": {},
   "outputs": [
    {
     "data": {
      "text/plain": [
       "{'emp name': 'tulasi',\n",
       " 'salary': 1000,\n",
       " 'experience': 6,\n",
       " 'designation': 'ml engineer'}"
      ]
     },
     "execution_count": 15,
     "metadata": {},
     "output_type": "execute_result"
    }
   ],
   "source": [
    "d"
   ]
  },
  {
   "cell_type": "code",
   "execution_count": 16,
   "id": "abf61799",
   "metadata": {},
   "outputs": [
    {
     "data": {
      "text/plain": [
       "'ml engineer'"
      ]
     },
     "execution_count": 16,
     "metadata": {},
     "output_type": "execute_result"
    }
   ],
   "source": [
    "d.pop(\"designation\")"
   ]
  },
  {
   "cell_type": "code",
   "execution_count": 17,
   "id": "fe2e02e5",
   "metadata": {},
   "outputs": [
    {
     "data": {
      "text/plain": [
       "{'emp name': 'tulasi', 'salary': 1000, 'experience': 6}"
      ]
     },
     "execution_count": 17,
     "metadata": {},
     "output_type": "execute_result"
    }
   ],
   "source": [
    "d"
   ]
  },
  {
   "cell_type": "code",
   "execution_count": 18,
   "id": "c8c9a97a",
   "metadata": {},
   "outputs": [
    {
     "data": {
      "text/plain": [
       "('experience', 6)"
      ]
     },
     "execution_count": 18,
     "metadata": {},
     "output_type": "execute_result"
    }
   ],
   "source": [
    "d.popitem() #removes last inserted item"
   ]
  },
  {
   "cell_type": "code",
   "execution_count": 19,
   "id": "d1951d31",
   "metadata": {},
   "outputs": [
    {
     "data": {
      "text/plain": [
       "{'emp name': 'tulasi', 'salary': 1000}"
      ]
     },
     "execution_count": 19,
     "metadata": {},
     "output_type": "execute_result"
    }
   ],
   "source": [
    "d"
   ]
  },
  {
   "cell_type": "code",
   "execution_count": 29,
   "id": "1927087f",
   "metadata": {},
   "outputs": [
    {
     "data": {
      "text/plain": [
       "{'emp name': None, 'salary': None}"
      ]
     },
     "execution_count": 29,
     "metadata": {},
     "output_type": "execute_result"
    }
   ],
   "source": [
    "dict=d.fromkeys(d)\n",
    "dict"
   ]
  },
  {
   "cell_type": "code",
   "execution_count": 20,
   "id": "c1a89458",
   "metadata": {},
   "outputs": [],
   "source": [
    "list=[1,22,3.5,[3,4,[{\"name\":[1,2,{\"name1\":\"tulasi\"},{\"age\":5}]}]]]"
   ]
  },
  {
   "cell_type": "code",
   "execution_count": 32,
   "id": "91e10f51",
   "metadata": {},
   "outputs": [
    {
     "data": {
      "text/plain": [
       "[3, 4, [{'name': [1, 2, {'name1': 'tulasi'}, {'age': 5}]}]]"
      ]
     },
     "execution_count": 32,
     "metadata": {},
     "output_type": "execute_result"
    }
   ],
   "source": [
    "list[3]"
   ]
  },
  {
   "cell_type": "code",
   "execution_count": 33,
   "id": "725edcde",
   "metadata": {},
   "outputs": [
    {
     "data": {
      "text/plain": [
       "[{'name': [1, 2, {'name1': 'tulasi'}, {'age': 5}]}]"
      ]
     },
     "execution_count": 33,
     "metadata": {},
     "output_type": "execute_result"
    }
   ],
   "source": [
    "list[3][2]"
   ]
  },
  {
   "cell_type": "code",
   "execution_count": 34,
   "id": "f2f509cb",
   "metadata": {},
   "outputs": [
    {
     "data": {
      "text/plain": [
       "{'name': [1, 2, {'name1': 'tulasi'}, {'age': 5}]}"
      ]
     },
     "execution_count": 34,
     "metadata": {},
     "output_type": "execute_result"
    }
   ],
   "source": [
    "list[3][2][0]"
   ]
  },
  {
   "cell_type": "code",
   "execution_count": 37,
   "id": "59e9f1ed",
   "metadata": {},
   "outputs": [
    {
     "data": {
      "text/plain": [
       "[1, 2, {'name1': 'tulasi'}, {'age': 5}]"
      ]
     },
     "execution_count": 37,
     "metadata": {},
     "output_type": "execute_result"
    }
   ],
   "source": [
    "list[3][2][0][\"name\"]"
   ]
  },
  {
   "cell_type": "code",
   "execution_count": 38,
   "id": "19fe2db9",
   "metadata": {},
   "outputs": [
    {
     "data": {
      "text/plain": [
       "{'name1': 'tulasi'}"
      ]
     },
     "execution_count": 38,
     "metadata": {},
     "output_type": "execute_result"
    }
   ],
   "source": [
    "list[3][2][0][\"name\"][2]"
   ]
  },
  {
   "cell_type": "code",
   "execution_count": 39,
   "id": "4783c7b6",
   "metadata": {},
   "outputs": [
    {
     "data": {
      "text/plain": [
       "'tulasi'"
      ]
     },
     "execution_count": 39,
     "metadata": {},
     "output_type": "execute_result"
    }
   ],
   "source": [
    "list[3][2][0][\"name\"][2][\"name1\"]"
   ]
  },
  {
   "cell_type": "markdown",
   "id": "5d459149",
   "metadata": {},
   "source": [
    "# Sets"
   ]
  },
  {
   "cell_type": "raw",
   "id": "22ec0627",
   "metadata": {},
   "source": [
    "unordered, , no duplicates, no indexing/slicing"
   ]
  },
  {
   "cell_type": "code",
   "execution_count": 40,
   "id": "3436130a",
   "metadata": {},
   "outputs": [],
   "source": [
    "s={1,2,3}"
   ]
  },
  {
   "cell_type": "code",
   "execution_count": 41,
   "id": "8058c9fa",
   "metadata": {},
   "outputs": [
    {
     "data": {
      "text/plain": [
       "{1, 2, 3}"
      ]
     },
     "execution_count": 41,
     "metadata": {},
     "output_type": "execute_result"
    }
   ],
   "source": [
    "s"
   ]
  },
  {
   "cell_type": "code",
   "execution_count": 42,
   "id": "9e388389",
   "metadata": {},
   "outputs": [],
   "source": [
    "s={1,'2',2} #heterogeneous"
   ]
  },
  {
   "cell_type": "code",
   "execution_count": 43,
   "id": "97c84698",
   "metadata": {},
   "outputs": [
    {
     "data": {
      "text/plain": [
       "{1, 2, '2'}"
      ]
     },
     "execution_count": 43,
     "metadata": {},
     "output_type": "execute_result"
    }
   ],
   "source": [
    "s"
   ]
  },
  {
   "cell_type": "code",
   "execution_count": 44,
   "id": "aefedbd6",
   "metadata": {},
   "outputs": [],
   "source": [
    "s.add('vit') #mutable"
   ]
  },
  {
   "cell_type": "code",
   "execution_count": 45,
   "id": "dbb805ac",
   "metadata": {},
   "outputs": [
    {
     "data": {
      "text/plain": [
       "{1, 2, '2', 'vit'}"
      ]
     },
     "execution_count": 45,
     "metadata": {},
     "output_type": "execute_result"
    }
   ],
   "source": [
    "s"
   ]
  },
  {
   "cell_type": "code",
   "execution_count": 46,
   "id": "17406299",
   "metadata": {},
   "outputs": [
    {
     "ename": "TypeError",
     "evalue": "'set' object is not subscriptable",
     "output_type": "error",
     "traceback": [
      "\u001b[1;31m---------------------------------------------------------------------------\u001b[0m",
      "\u001b[1;31mTypeError\u001b[0m                                 Traceback (most recent call last)",
      "Cell \u001b[1;32mIn[46], line 1\u001b[0m\n\u001b[1;32m----> 1\u001b[0m s[\u001b[38;5;241m1\u001b[39m]\n",
      "\u001b[1;31mTypeError\u001b[0m: 'set' object is not subscriptable"
     ]
    }
   ],
   "source": [
    "s[1] #indexing and slicing not possible"
   ]
  },
  {
   "cell_type": "code",
   "execution_count": 47,
   "id": "8a8caa60",
   "metadata": {},
   "outputs": [],
   "source": [
    "my_set={1,2}"
   ]
  },
  {
   "cell_type": "code",
   "execution_count": 48,
   "id": "d7699127",
   "metadata": {},
   "outputs": [],
   "source": [
    "my_set.add(2)"
   ]
  },
  {
   "cell_type": "code",
   "execution_count": 49,
   "id": "24730283",
   "metadata": {},
   "outputs": [
    {
     "data": {
      "text/plain": [
       "{1, 2}"
      ]
     },
     "execution_count": 49,
     "metadata": {},
     "output_type": "execute_result"
    }
   ],
   "source": [
    "my_set #no duplicates"
   ]
  },
  {
   "cell_type": "code",
   "execution_count": 50,
   "id": "6b7b1e6d",
   "metadata": {},
   "outputs": [],
   "source": [
    "my_set.update([2,3,4])"
   ]
  },
  {
   "cell_type": "code",
   "execution_count": 51,
   "id": "c2e31aac",
   "metadata": {},
   "outputs": [
    {
     "data": {
      "text/plain": [
       "{1, 2, 3, 4}"
      ]
     },
     "execution_count": 51,
     "metadata": {},
     "output_type": "execute_result"
    }
   ],
   "source": [
    "my_set"
   ]
  },
  {
   "cell_type": "code",
   "execution_count": 53,
   "id": "39e84c5b",
   "metadata": {},
   "outputs": [],
   "source": [
    "my_set.remove(2)"
   ]
  },
  {
   "cell_type": "code",
   "execution_count": 54,
   "id": "196e78f6",
   "metadata": {},
   "outputs": [
    {
     "data": {
      "text/plain": [
       "{1, 3, 4}"
      ]
     },
     "execution_count": 54,
     "metadata": {},
     "output_type": "execute_result"
    }
   ],
   "source": [
    "my_set"
   ]
  },
  {
   "cell_type": "code",
   "execution_count": 55,
   "id": "1487a69b",
   "metadata": {},
   "outputs": [],
   "source": [
    "my_set.discard(3)"
   ]
  },
  {
   "cell_type": "code",
   "execution_count": 56,
   "id": "aa46afd5",
   "metadata": {},
   "outputs": [
    {
     "data": {
      "text/plain": [
       "{1, 4}"
      ]
     },
     "execution_count": 56,
     "metadata": {},
     "output_type": "execute_result"
    }
   ],
   "source": [
    "my_set"
   ]
  },
  {
   "cell_type": "code",
   "execution_count": 57,
   "id": "265aabd2",
   "metadata": {},
   "outputs": [
    {
     "data": {
      "text/plain": [
       "{1, 2, 3, 4, 5, 6}"
      ]
     },
     "execution_count": 57,
     "metadata": {},
     "output_type": "execute_result"
    }
   ],
   "source": [
    "a={1,2,3,4}\n",
    "b={2,4,5,6}\n",
    "c=a.union(b)\n",
    "c"
   ]
  },
  {
   "cell_type": "code",
   "execution_count": 58,
   "id": "37907602",
   "metadata": {},
   "outputs": [],
   "source": [
    "d=a.intersection(b)"
   ]
  },
  {
   "cell_type": "code",
   "execution_count": 59,
   "id": "70076855",
   "metadata": {},
   "outputs": [
    {
     "data": {
      "text/plain": [
       "{2, 4}"
      ]
     },
     "execution_count": 59,
     "metadata": {},
     "output_type": "execute_result"
    }
   ],
   "source": [
    "d"
   ]
  },
  {
   "cell_type": "code",
   "execution_count": 60,
   "id": "d1c58a07",
   "metadata": {},
   "outputs": [
    {
     "data": {
      "text/plain": [
       "['__and__',\n",
       " '__class__',\n",
       " '__class_getitem__',\n",
       " '__contains__',\n",
       " '__delattr__',\n",
       " '__dir__',\n",
       " '__doc__',\n",
       " '__eq__',\n",
       " '__format__',\n",
       " '__ge__',\n",
       " '__getattribute__',\n",
       " '__getstate__',\n",
       " '__gt__',\n",
       " '__hash__',\n",
       " '__iand__',\n",
       " '__init__',\n",
       " '__init_subclass__',\n",
       " '__ior__',\n",
       " '__isub__',\n",
       " '__iter__',\n",
       " '__ixor__',\n",
       " '__le__',\n",
       " '__len__',\n",
       " '__lt__',\n",
       " '__ne__',\n",
       " '__new__',\n",
       " '__or__',\n",
       " '__rand__',\n",
       " '__reduce__',\n",
       " '__reduce_ex__',\n",
       " '__repr__',\n",
       " '__ror__',\n",
       " '__rsub__',\n",
       " '__rxor__',\n",
       " '__setattr__',\n",
       " '__sizeof__',\n",
       " '__str__',\n",
       " '__sub__',\n",
       " '__subclasshook__',\n",
       " '__xor__',\n",
       " 'add',\n",
       " 'clear',\n",
       " 'copy',\n",
       " 'difference',\n",
       " 'difference_update',\n",
       " 'discard',\n",
       " 'intersection',\n",
       " 'intersection_update',\n",
       " 'isdisjoint',\n",
       " 'issubset',\n",
       " 'issuperset',\n",
       " 'pop',\n",
       " 'remove',\n",
       " 'symmetric_difference',\n",
       " 'symmetric_difference_update',\n",
       " 'union',\n",
       " 'update']"
      ]
     },
     "execution_count": 60,
     "metadata": {},
     "output_type": "execute_result"
    }
   ],
   "source": [
    "dir(d)"
   ]
  },
  {
   "cell_type": "code",
   "execution_count": 61,
   "id": "ebd13c61",
   "metadata": {},
   "outputs": [],
   "source": [
    "d.clear()"
   ]
  },
  {
   "cell_type": "code",
   "execution_count": 62,
   "id": "e1d1c6b1",
   "metadata": {},
   "outputs": [
    {
     "data": {
      "text/plain": [
       "set()"
      ]
     },
     "execution_count": 62,
     "metadata": {},
     "output_type": "execute_result"
    }
   ],
   "source": [
    "d"
   ]
  },
  {
   "cell_type": "code",
   "execution_count": 63,
   "id": "41609829",
   "metadata": {},
   "outputs": [],
   "source": [
    "a={1,2,3,4}"
   ]
  },
  {
   "cell_type": "code",
   "execution_count": 64,
   "id": "280f00fb",
   "metadata": {},
   "outputs": [
    {
     "data": {
      "text/plain": [
       "{1, 2, 3, 4}"
      ]
     },
     "execution_count": 64,
     "metadata": {},
     "output_type": "execute_result"
    }
   ],
   "source": [
    "a.update([2])\n",
    "a"
   ]
  },
  {
   "cell_type": "code",
   "execution_count": 65,
   "id": "16b22ec6",
   "metadata": {},
   "outputs": [],
   "source": [
    "a={4,1,3}"
   ]
  },
  {
   "cell_type": "code",
   "execution_count": 66,
   "id": "fa01c511",
   "metadata": {},
   "outputs": [
    {
     "data": {
      "text/plain": [
       "{1, 3, 4}"
      ]
     },
     "execution_count": 66,
     "metadata": {},
     "output_type": "execute_result"
    }
   ],
   "source": [
    "a"
   ]
  },
  {
   "cell_type": "code",
   "execution_count": 67,
   "id": "7929ccf3",
   "metadata": {},
   "outputs": [],
   "source": [
    "a.remove(1)"
   ]
  },
  {
   "cell_type": "code",
   "execution_count": 68,
   "id": "5b996a29",
   "metadata": {},
   "outputs": [
    {
     "data": {
      "text/plain": [
       "{3, 4}"
      ]
     },
     "execution_count": 68,
     "metadata": {},
     "output_type": "execute_result"
    }
   ],
   "source": [
    "a"
   ]
  },
  {
   "cell_type": "code",
   "execution_count": 70,
   "id": "3075b622",
   "metadata": {},
   "outputs": [],
   "source": [
    "a.update([1])"
   ]
  },
  {
   "cell_type": "code",
   "execution_count": 71,
   "id": "f05e0dbe",
   "metadata": {},
   "outputs": [
    {
     "data": {
      "text/plain": [
       "{1, 3, 4}"
      ]
     },
     "execution_count": 71,
     "metadata": {},
     "output_type": "execute_result"
    }
   ],
   "source": [
    "a"
   ]
  },
  {
   "cell_type": "markdown",
   "id": "1d9a08fd",
   "metadata": {},
   "source": [
    "# conditional statements\n"
   ]
  },
  {
   "cell_type": "code",
   "execution_count": null,
   "id": "c1788506",
   "metadata": {},
   "outputs": [],
   "source": [
    "1. if\n",
    "2. else\n",
    "3. elif\n",
    "4. nested if"
   ]
  },
  {
   "cell_type": "code",
   "execution_count": null,
   "id": "20845cf5",
   "metadata": {},
   "outputs": [],
   "source": [
    "scanf(\"enter the value\",&a)"
   ]
  },
  {
   "cell_type": "code",
   "execution_count": 74,
   "id": "e63ae62f",
   "metadata": {},
   "outputs": [
    {
     "name": "stdout",
     "output_type": "stream",
     "text": [
      "enter a value1\n",
      "enter b value3\n"
     ]
    }
   ],
   "source": [
    "a = int(input(\"enter a value\"))\n",
    "b = int(input(\"enter b value\"))\n",
    "c= a+b"
   ]
  },
  {
   "cell_type": "code",
   "execution_count": 75,
   "id": "d6fc187e",
   "metadata": {},
   "outputs": [
    {
     "data": {
      "text/plain": [
       "4"
      ]
     },
     "execution_count": 75,
     "metadata": {},
     "output_type": "execute_result"
    }
   ],
   "source": [
    "c"
   ]
  },
  {
   "cell_type": "markdown",
   "id": "b59fc74f",
   "metadata": {},
   "source": [
    "## if statement"
   ]
  },
  {
   "cell_type": "code",
   "execution_count": null,
   "id": "06d089ac",
   "metadata": {},
   "outputs": [],
   "source": [
    "if condition:\n",
    "    statement"
   ]
  },
  {
   "cell_type": "code",
   "execution_count": 80,
   "id": "dd2c7c68",
   "metadata": {},
   "outputs": [
    {
     "name": "stdout",
     "output_type": "stream",
     "text": [
      "enter a value1\n",
      "enter b value2\n",
      "3\n"
     ]
    }
   ],
   "source": [
    "a = int(input(\"enter a value\"))\n",
    "b = int(input(\"enter b value\"))\n",
    "c= a+b\n",
    "print(c)\n",
    "if c>35:\n",
    "    print(\"pass\")"
   ]
  },
  {
   "cell_type": "markdown",
   "id": "6631d9e3",
   "metadata": {},
   "source": [
    "## ifelse statement"
   ]
  },
  {
   "cell_type": "code",
   "execution_count": 82,
   "id": "eb3bf8ed",
   "metadata": {},
   "outputs": [
    {
     "name": "stdout",
     "output_type": "stream",
     "text": [
      "enter a value2\n",
      "enter b value3\n",
      "5\n",
      "Fail\n"
     ]
    }
   ],
   "source": [
    "a = int(input(\"enter a value\"))\n",
    "b = int(input(\"enter b value\"))\n",
    "c= a+b\n",
    "print(c)\n",
    "if c>35:\n",
    "    print(\"pass\")\n",
    "else:\n",
    "    print(\"Fail\")"
   ]
  },
  {
   "cell_type": "markdown",
   "id": "f91f6041",
   "metadata": {},
   "source": [
    "## elif statement"
   ]
  },
  {
   "cell_type": "code",
   "execution_count": 83,
   "id": "5794eac4",
   "metadata": {},
   "outputs": [
    {
     "name": "stdout",
     "output_type": "stream",
     "text": [
      "enter a value34\n",
      "enter b value1\n",
      "35\n",
      "border pass\n"
     ]
    }
   ],
   "source": [
    "a = int(input(\"enter a value\"))\n",
    "b = int(input(\"enter b value\"))\n",
    "c= a+b\n",
    "print(c)\n",
    "if c>35:\n",
    "    print(\"pass\")\n",
    "elif c==35:\n",
    "    print(\"border pass\")\n",
    "else:\n",
    "    print(\"Fail\")"
   ]
  },
  {
   "cell_type": "markdown",
   "id": "f9abb30a",
   "metadata": {},
   "source": [
    "## nestedif statement"
   ]
  },
  {
   "cell_type": "code",
   "execution_count": null,
   "id": "b1f657f8",
   "metadata": {},
   "outputs": [],
   "source": [
    "if condition:\n",
    "    if condition:\n",
    "        if condition:\n",
    "            statement"
   ]
  },
  {
   "cell_type": "code",
   "execution_count": 88,
   "id": "bc836174",
   "metadata": {},
   "outputs": [
    {
     "name": "stdout",
     "output_type": "stream",
     "text": [
      "Enter the number-1\n",
      "negative\n"
     ]
    }
   ],
   "source": [
    "num = float(input(\"Enter the number\"))\n",
    "if num>=0:\n",
    "    if num==0:\n",
    "        print(\"It is zero\")\n",
    "    else:\n",
    "        print(\"Positive\")\n",
    "else:\n",
    "    print(\"negative\")\n",
    "\n"
   ]
  },
  {
   "cell_type": "markdown",
   "id": "653421d0",
   "metadata": {},
   "source": [
    "# Loops"
   ]
  },
  {
   "cell_type": "code",
   "execution_count": null,
   "id": "53fe3072",
   "metadata": {},
   "outputs": [],
   "source": [
    "1. while\n",
    "2. for loop"
   ]
  },
  {
   "cell_type": "code",
   "execution_count": null,
   "id": "a4caf66a",
   "metadata": {},
   "outputs": [],
   "source": [
    "while condition:\n",
    "    statement"
   ]
  },
  {
   "cell_type": "code",
   "execution_count": 1,
   "id": "3f43ae36",
   "metadata": {},
   "outputs": [
    {
     "name": "stdout",
     "output_type": "stream",
     "text": [
      "num is less than 10\n",
      "num is less than 10\n",
      "num is less than 10\n",
      "num is less than 10\n",
      "num is less than 10\n",
      "num is less than 10\n",
      "num is less than 10\n",
      "num is less than 10\n",
      "num is less than 10\n",
      "num is less than 10\n"
     ]
    }
   ],
   "source": [
    "num=0\n",
    "while num<10:\n",
    "    print(\"num is less than 10\")\n",
    "    num=num+1"
   ]
  },
  {
   "cell_type": "markdown",
   "id": "299a4a12",
   "metadata": {},
   "source": [
    "# for loop"
   ]
  },
  {
   "cell_type": "code",
   "execution_count": null,
   "id": "510711a9",
   "metadata": {},
   "outputs": [],
   "source": [
    "for value in sequence:\n",
    "    statement"
   ]
  },
  {
   "cell_type": "code",
   "execution_count": 3,
   "id": "254b399a",
   "metadata": {},
   "outputs": [
    {
     "name": "stdout",
     "output_type": "stream",
     "text": [
      "0\n",
      "1\n",
      "2\n",
      "3\n",
      "4\n",
      "5\n",
      "6\n",
      "7\n",
      "8\n",
      "9\n"
     ]
    }
   ],
   "source": [
    "for i in range(10):\n",
    "    print(i)"
   ]
  },
  {
   "cell_type": "code",
   "execution_count": 4,
   "id": "6f679323",
   "metadata": {},
   "outputs": [
    {
     "name": "stdout",
     "output_type": "stream",
     "text": [
      "d\n",
      "a\n",
      "t\n",
      "a\n"
     ]
    }
   ],
   "source": [
    "l=\"data\"\n",
    "for i in l:\n",
    "    print(i)"
   ]
  },
  {
   "cell_type": "markdown",
   "id": "072197e8",
   "metadata": {},
   "source": [
    "### break"
   ]
  },
  {
   "cell_type": "code",
   "execution_count": 9,
   "id": "02077649",
   "metadata": {},
   "outputs": [
    {
     "name": "stdout",
     "output_type": "stream",
     "text": [
      "d\n",
      "a\n",
      "t\n",
      "a\n",
      "end\n"
     ]
    }
   ],
   "source": [
    "for i in \"dataVgyan\":\n",
    "    if i=='V':\n",
    "        break\n",
    "    print(i)\n",
    "print(\"end\")"
   ]
  },
  {
   "cell_type": "code",
   "execution_count": 10,
   "id": "7f70172f",
   "metadata": {},
   "outputs": [
    {
     "name": "stdout",
     "output_type": "stream",
     "text": [
      "d\n",
      "a\n",
      "t\n",
      "a\n",
      "g\n",
      "y\n",
      "a\n",
      "n\n",
      "end\n"
     ]
    }
   ],
   "source": [
    "for i in \"dataVgyan\":\n",
    "    if i=='V':\n",
    "        continue\n",
    "    print(i)\n",
    "print(\"end\")"
   ]
  },
  {
   "cell_type": "code",
   "execution_count": 11,
   "id": "fe16eaaa",
   "metadata": {},
   "outputs": [
    {
     "name": "stdout",
     "output_type": "stream",
     "text": [
      "d\n",
      "a\n",
      "t\n",
      "a\n",
      "V\n",
      "g\n",
      "y\n",
      "a\n",
      "n\n",
      "end\n"
     ]
    }
   ],
   "source": [
    "for i in \"dataVgyan\":\n",
    "    if i=='V':\n",
    "        pass\n",
    "    print(i)\n",
    "print(\"end\")"
   ]
  },
  {
   "cell_type": "markdown",
   "id": "9086a4ed",
   "metadata": {},
   "source": [
    "# Functions\n"
   ]
  },
  {
   "cell_type": "code",
   "execution_count": null,
   "id": "8990aedb",
   "metadata": {},
   "outputs": [],
   "source": [
    "def funtion_name:\n",
    "    block of code"
   ]
  },
  {
   "cell_type": "code",
   "execution_count": 13,
   "id": "4e9389f0",
   "metadata": {},
   "outputs": [],
   "source": [
    "def x():\n",
    "    print(\"I am a function\")"
   ]
  },
  {
   "cell_type": "code",
   "execution_count": 14,
   "id": "a1480924",
   "metadata": {},
   "outputs": [
    {
     "name": "stdout",
     "output_type": "stream",
     "text": [
      "I am a function\n"
     ]
    }
   ],
   "source": [
    "x() #to call a fn, fnname followed by paranthesis"
   ]
  },
  {
   "cell_type": "code",
   "execution_count": 18,
   "id": "78eec07c",
   "metadata": {},
   "outputs": [],
   "source": [
    "def greet(name): #this is a parameter\n",
    "    print(\"hello\\t\"+str(name))"
   ]
  },
  {
   "cell_type": "code",
   "execution_count": 19,
   "id": "222b2572",
   "metadata": {},
   "outputs": [
    {
     "name": "stdout",
     "output_type": "stream",
     "text": [
      "hello\tVIT\n"
     ]
    }
   ],
   "source": [
    "greet(\"VIT\") #this is a argument passing when calling a fn"
   ]
  },
  {
   "cell_type": "markdown",
   "id": "92f17f08",
   "metadata": {},
   "source": [
    "Key word arguments"
   ]
  },
  {
   "cell_type": "code",
   "execution_count": 20,
   "id": "bc207ecc",
   "metadata": {},
   "outputs": [],
   "source": [
    "def x(a=10,b=45):\n",
    "    print(a,b)"
   ]
  },
  {
   "cell_type": "code",
   "execution_count": 22,
   "id": "99236663",
   "metadata": {},
   "outputs": [
    {
     "name": "stdout",
     "output_type": "stream",
     "text": [
      "10 tulasi\n"
     ]
    }
   ],
   "source": [
    "x(b=\"tulasi\")"
   ]
  },
  {
   "cell_type": "code",
   "execution_count": null,
   "id": "068c70f5",
   "metadata": {},
   "outputs": [],
   "source": []
  },
  {
   "cell_type": "raw",
   "id": "408f668d",
   "metadata": {},
   "source": [
    "variable length arguments"
   ]
  },
  {
   "cell_type": "code",
   "execution_count": 25,
   "id": "9fdb9f67",
   "metadata": {},
   "outputs": [],
   "source": [
    "def x(a,*b):\n",
    "    print(\"a value\",a)\n",
    "    for i in b:\n",
    "        print(\"b value\", i)"
   ]
  },
  {
   "cell_type": "code",
   "execution_count": 26,
   "id": "685272fd",
   "metadata": {},
   "outputs": [
    {
     "name": "stdout",
     "output_type": "stream",
     "text": [
      "a value 1\n",
      "b value 3\n",
      "b value 6\n",
      "b value 4\n",
      "b value 5\n",
      "b value 6\n",
      "b value 9\n"
     ]
    }
   ],
   "source": [
    "x(1,3,6,4,5,6,9)"
   ]
  },
  {
   "cell_type": "markdown",
   "id": "0434e17b",
   "metadata": {},
   "source": [
    "return"
   ]
  },
  {
   "cell_type": "code",
   "execution_count": 27,
   "id": "df465a2c",
   "metadata": {},
   "outputs": [],
   "source": [
    "def x(a,b):\n",
    "    c=a+b\n",
    "    return(c)"
   ]
  },
  {
   "cell_type": "code",
   "execution_count": 29,
   "id": "c3f0525b",
   "metadata": {},
   "outputs": [
    {
     "data": {
      "text/plain": [
       "4"
      ]
     },
     "execution_count": 29,
     "metadata": {},
     "output_type": "execute_result"
    }
   ],
   "source": [
    "x(1,3)"
   ]
  },
  {
   "cell_type": "markdown",
   "id": "b886160c",
   "metadata": {},
   "source": [
    "# Exception Handling"
   ]
  },
  {
   "cell_type": "code",
   "execution_count": 3,
   "id": "fb5bcc44",
   "metadata": {},
   "outputs": [
    {
     "name": "stdout",
     "output_type": "stream",
     "text": [
      "divide by zero error\n",
      "normal flow of program\n"
     ]
    }
   ],
   "source": [
    "try:\n",
    "    print(10/0)\n",
    "except ZeroDivisionError:\n",
    "    print(\"divide by zero error\")\n",
    "print(\"normal flow of program\")"
   ]
  },
  {
   "cell_type": "code",
   "execution_count": 9,
   "id": "481e234b",
   "metadata": {},
   "outputs": [
    {
     "name": "stdout",
     "output_type": "stream",
     "text": [
      "name 'spam' is not defined\n"
     ]
    }
   ],
   "source": [
    "try:\n",
    "    '2'+2\n",
    "    #print(10/0)\n",
    "    #4+spam\n",
    "    \n",
    "except Exception as e:\n",
    "    print(e)"
   ]
  },
  {
   "cell_type": "code",
   "execution_count": 11,
   "id": "e6b181f4",
   "metadata": {},
   "outputs": [
    {
     "name": "stdout",
     "output_type": "stream",
     "text": [
      "10\n",
      "finally is executed\n"
     ]
    }
   ],
   "source": [
    "try:\n",
    "    print(10)\n",
    "except ZeroDivisionError:\n",
    "    print(\"divide by zero error\")\n",
    "finally:\n",
    "    print(\"finally is executed\")"
   ]
  },
  {
   "cell_type": "code",
   "execution_count": null,
   "id": "20d1e9a9",
   "metadata": {},
   "outputs": [],
   "source": []
  }
 ],
 "metadata": {
  "kernelspec": {
   "display_name": "Python 3 (ipykernel)",
   "language": "python",
   "name": "python3"
  },
  "language_info": {
   "codemirror_mode": {
    "name": "ipython",
    "version": 3
   },
   "file_extension": ".py",
   "mimetype": "text/x-python",
   "name": "python",
   "nbconvert_exporter": "python",
   "pygments_lexer": "ipython3",
   "version": "3.11.4"
  }
 },
 "nbformat": 4,
 "nbformat_minor": 5
}
